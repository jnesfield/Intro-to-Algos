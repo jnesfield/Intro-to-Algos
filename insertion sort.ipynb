{
 "cells": [
  {
   "cell_type": "code",
   "execution_count": 1,
   "metadata": {},
   "outputs": [
    {
     "name": "stdout",
     "output_type": "stream",
     "text": [
      "[0, 1, 2, 3, 4, 5, 6, 7, 8, 9, 10, 20, 25, 30, 100]\n"
     ]
    }
   ],
   "source": [
    "def insertion_sort(list_item):\n",
    "    for i in range(1,len(list_item)):\n",
    "        key = list_item[i]\n",
    "        j = i - 1\n",
    "        while j > 0 and list_item[j] > key:\n",
    "            list_item[j + 1] = list_item[j]\n",
    "            j = j - 1\n",
    "        list_item[j + 1] = key\n",
    "    \n",
    "    return list_item\n",
    "\n",
    "test_list = [0,2,1,3,4,7,8,10,20,25,30,9,5,100,6]\n",
    "\n",
    "print(insertion_sort(test_list))"
   ]
  },
  {
   "cell_type": "code",
   "execution_count": null,
   "metadata": {},
   "outputs": [],
   "source": []
  }
 ],
 "metadata": {
  "kernelspec": {
   "display_name": "Python 3",
   "language": "python",
   "name": "python3"
  },
  "language_info": {
   "codemirror_mode": {
    "name": "ipython",
    "version": 3
   },
   "file_extension": ".py",
   "mimetype": "text/x-python",
   "name": "python",
   "nbconvert_exporter": "python",
   "pygments_lexer": "ipython3",
   "version": "3.8.5"
  }
 },
 "nbformat": 4,
 "nbformat_minor": 4
}
