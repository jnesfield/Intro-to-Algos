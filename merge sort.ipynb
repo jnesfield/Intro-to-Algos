{
 "cells": [
  {
   "cell_type": "code",
   "execution_count": 135,
   "metadata": {},
   "outputs": [],
   "source": [
    "def mergeSort(arr):\n",
    "    \n",
    "    #only need to check if input is >1, if it = 1 then its the lowest level of recursion we want\n",
    "    if len(arr) > 1:\n",
    "        \n",
    "        #split input\n",
    "        a = len(arr)//2\n",
    "\n",
    "        l = arr[:a]\n",
    "\n",
    "        r = arr[a:]\n",
    "\n",
    "        # Sort the two halves\n",
    "\n",
    "        mergeSort(l)\n",
    "\n",
    "        mergeSort(r) \n",
    "\n",
    "        b = c = d = 0\n",
    "\n",
    "        while b < len(l) and c < len(r):\n",
    "\n",
    "            if l[b] < r[c]:\n",
    "\n",
    "                arr[d] = l[b]\n",
    "\n",
    "                b += 1\n",
    "\n",
    "            else:\n",
    "\n",
    "                arr[d] = r[c]\n",
    "\n",
    "                c += 1\n",
    "\n",
    "            d += 1\n",
    "\n",
    "        while b < len(l):\n",
    "\n",
    "            arr[d] = l[b]\n",
    "\n",
    "            b += 1\n",
    "\n",
    "            d += 1\n",
    "\n",
    "        while c < len(r):\n",
    "\n",
    "            arr[d] = r[c]\n",
    "\n",
    "            c += 1\n",
    "\n",
    "            d += 1\n",
    "    "
   ]
  },
  {
   "cell_type": "code",
   "execution_count": 136,
   "metadata": {},
   "outputs": [],
   "source": [
    "list_item = [0,2,1,3,4,7,8,10,20,25,30,9,5,100,6]"
   ]
  },
  {
   "cell_type": "code",
   "execution_count": 138,
   "metadata": {
    "scrolled": false
   },
   "outputs": [
    {
     "name": "stdout",
     "output_type": "stream",
     "text": [
      "[0, 1, 2, 3, 4, 5, 6, 7, 8, 9, 10, 20, 25, 30, 100]\n"
     ]
    }
   ],
   "source": [
    "mergeSort(list_item)\n",
    "\n",
    "print(list_item)"
   ]
  }
 ],
 "metadata": {
  "kernelspec": {
   "display_name": "Python 3",
   "language": "python",
   "name": "python3"
  },
  "language_info": {
   "codemirror_mode": {
    "name": "ipython",
    "version": 3
   },
   "file_extension": ".py",
   "mimetype": "text/x-python",
   "name": "python",
   "nbconvert_exporter": "python",
   "pygments_lexer": "ipython3",
   "version": "3.8.5"
  }
 },
 "nbformat": 4,
 "nbformat_minor": 4
}
