{
 "cells": [
  {
   "cell_type": "code",
   "execution_count": 1,
   "metadata": {},
   "outputs": [],
   "source": [
    "#more direct solution (that does not give indices)\n",
    "def maxSubArray(nums):\n",
    "        if max(nums)<0:\n",
    "            return max(nums)\n",
    "        curr_sum, max_sum = 0, 0\n",
    "        for num in nums:\n",
    "            curr_sum = max(0, curr_sum + num)\n",
    "            max_sum = max(curr_sum, max_sum)\n",
    "        return max_sum     \n"
   ]
  },
  {
   "cell_type": "code",
   "execution_count": 2,
   "metadata": {},
   "outputs": [
    {
     "name": "stdout",
     "output_type": "stream",
     "text": [
      "43\n"
     ]
    }
   ],
   "source": [
    "test_list = [13,-3,-25,20,-3,-16,-23,18,20,-7,12,-5,-22,15,-4,7]\n",
    "\n",
    "print(maxSubArray(test_list))"
   ]
  },
  {
   "cell_type": "code",
   "execution_count": 3,
   "metadata": {},
   "outputs": [],
   "source": [
    "#algo from book\n",
    "def find_max_crossing_subarray(arr, low, mid, high):\n",
    "    left_sum = float('-inf')\n",
    "    curr_sum = 0\n",
    "    for i in range(low,mid+1):\n",
    "        curr_sum += arr[mid-i]\n",
    "        if curr_sum > left_sum:\n",
    "            left_sum = curr_sum\n",
    "            max_left = mid-i\n",
    "    right_sum = float('-inf')\n",
    "    curr_sum = 0\n",
    "    for j in range(mid+1, high+1):\n",
    "        curr_sum += arr[j]\n",
    "        if curr_sum  > right_sum:\n",
    "            right_sum = curr_sum\n",
    "            max_right = j\n",
    "    return max_left, max_right, left_sum + right_sum\n",
    "\n",
    "def find_max_subarray(arr, low, high):\n",
    "    if high == low:\n",
    "        return low, high, arr[low]\n",
    "    else:\n",
    "        mid = int((low + high) / 2)\n",
    "        left_low, left_high, left_sum = find_max_subarray(arr, low, mid)\n",
    "        right_low, right_high, right_sum = find_max_subarray(arr, mid+1, high)\n",
    "        cross_low, cross_high, cross_sum = find_max_crossing_subarray(arr, low, mid, high)\n",
    "    \n",
    "        if left_sum >= right_sum and right_sum >= cross_sum:\n",
    "            return left_low, left_high, left_sum\n",
    "        elif right_sum >= left_sum and right_sum >= cross_sum:\n",
    "            return right_low, right_high, right_sum\n",
    "        else:\n",
    "            return cross_low, cross_high, cross_sum\n",
    "\n",
    "        \n",
    "        \n",
    "        "
   ]
  },
  {
   "cell_type": "code",
   "execution_count": 4,
   "metadata": {},
   "outputs": [
    {
     "name": "stdout",
     "output_type": "stream",
     "text": [
      "(7, 10, 43)\n"
     ]
    }
   ],
   "source": [
    "test_list = [13,-3,-25,20,-3,-16,-23,18,20,-7,12,-5,-22,15,-4,7]\n",
    "\n",
    "print(find_max_subarray(test_list, 0, len(test_list)-1))"
   ]
  }
 ],
 "metadata": {
  "kernelspec": {
   "display_name": "Python 3",
   "language": "python",
   "name": "python3"
  },
  "language_info": {
   "codemirror_mode": {
    "name": "ipython",
    "version": 3
   },
   "file_extension": ".py",
   "mimetype": "text/x-python",
   "name": "python",
   "nbconvert_exporter": "python",
   "pygments_lexer": "ipython3",
   "version": "3.8.5"
  }
 },
 "nbformat": 4,
 "nbformat_minor": 4
}
