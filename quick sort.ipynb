{
 "cells": [
  {
   "cell_type": "code",
   "execution_count": 1,
   "metadata": {},
   "outputs": [],
   "source": [
    "unsorted = [1,0,3,0,5,8,9,10,4,20,100,3,6,0,11,23,54]"
   ]
  },
  {
   "cell_type": "code",
   "execution_count": 23,
   "metadata": {},
   "outputs": [],
   "source": [
    "def quicksort(a, p, r):\n",
    "    if p < r:\n",
    "        q = partition(a, p, r)\n",
    "        quicksort(a, p, q-1)\n",
    "        quicksort(a, q+1, r)\n",
    "    \n",
    "def partition(a, p, r):\n",
    "    x = a[r]\n",
    "    i = p - 1\n",
    "    for j in range(p,r):\n",
    "        if a[j] <= x:\n",
    "            i += 1\n",
    "            a[i], a[j] = a[j], a[i]\n",
    "    a[i+1], a[r] = a[r], a[i+1]\n",
    "    return i + 1"
   ]
  },
  {
   "cell_type": "code",
   "execution_count": 24,
   "metadata": {},
   "outputs": [
    {
     "name": "stdout",
     "output_type": "stream",
     "text": [
      "[0, 0, 0, 1, 3, 3, 4, 5, 6, 8, 9, 10, 11, 20, 23, 54, 100]\n"
     ]
    }
   ],
   "source": [
    "quicksort(unsorted, 0, len(unsorted)-1)\n",
    "print(unsorted)"
   ]
  },
  {
   "cell_type": "code",
   "execution_count": null,
   "metadata": {},
   "outputs": [],
   "source": []
  }
 ],
 "metadata": {
  "kernelspec": {
   "display_name": "Python 3",
   "language": "python",
   "name": "python3"
  },
  "language_info": {
   "codemirror_mode": {
    "name": "ipython",
    "version": 3
   },
   "file_extension": ".py",
   "mimetype": "text/x-python",
   "name": "python",
   "nbconvert_exporter": "python",
   "pygments_lexer": "ipython3",
   "version": "3.8.5"
  }
 },
 "nbformat": 4,
 "nbformat_minor": 4
}
